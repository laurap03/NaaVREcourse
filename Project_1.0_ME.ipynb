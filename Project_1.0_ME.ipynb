{
 "cells": [
  {
   "cell_type": "code",
   "execution_count": 1,
   "id": "b4cee2d3-24c1-4717-a87d-0cc69fd7c867",
   "metadata": {},
   "outputs": [
    {
     "name": "stdout",
     "output_type": "stream",
     "text": [
      "Requirement already satisfied: numpy in /opt/conda/envs/vanilla/lib/python3.13/site-packages (2.3.0)\n",
      "Requirement already satisfied: pandas in /opt/conda/envs/vanilla/lib/python3.13/site-packages (2.3.0)\n",
      "Requirement already satisfied: scipy in /opt/conda/envs/vanilla/lib/python3.13/site-packages (1.15.3)\n",
      "Requirement already satisfied: shapely in /opt/conda/envs/vanilla/lib/python3.13/site-packages (2.1.1)\n",
      "Requirement already satisfied: scikit-image in /opt/conda/envs/vanilla/lib/python3.13/site-packages (0.25.2)\n",
      "Requirement already satisfied: python-dateutil>=2.8.2 in /opt/conda/envs/vanilla/lib/python3.13/site-packages (from pandas) (2.9.0.post0)\n",
      "Requirement already satisfied: pytz>=2020.1 in /opt/conda/envs/vanilla/lib/python3.13/site-packages (from pandas) (2025.2)\n",
      "Requirement already satisfied: tzdata>=2022.7 in /opt/conda/envs/vanilla/lib/python3.13/site-packages (from pandas) (2025.2)\n",
      "Requirement already satisfied: networkx>=3.0 in /opt/conda/envs/vanilla/lib/python3.13/site-packages (from scikit-image) (3.5)\n",
      "Requirement already satisfied: pillow>=10.1 in /opt/conda/envs/vanilla/lib/python3.13/site-packages (from scikit-image) (11.2.1)\n",
      "Requirement already satisfied: imageio!=2.35.0,>=2.33 in /opt/conda/envs/vanilla/lib/python3.13/site-packages (from scikit-image) (2.37.0)\n",
      "Requirement already satisfied: tifffile>=2022.8.12 in /opt/conda/envs/vanilla/lib/python3.13/site-packages (from scikit-image) (2025.6.11)\n",
      "Requirement already satisfied: packaging>=21 in /opt/conda/envs/vanilla/lib/python3.13/site-packages (from scikit-image) (25.0)\n",
      "Requirement already satisfied: lazy-loader>=0.4 in /opt/conda/envs/vanilla/lib/python3.13/site-packages (from scikit-image) (0.4)\n",
      "Requirement already satisfied: six>=1.5 in /opt/conda/envs/vanilla/lib/python3.13/site-packages (from python-dateutil>=2.8.2->pandas) (1.17.0)\n"
     ]
    }
   ],
   "source": [
    "#library\n",
    "!pip install numpy pandas scipy shapely scikit-image"
   ]
  },
  {
   "cell_type": "code",
   "execution_count": 2,
   "id": "499a966b-df8c-41cb-9590-d702af24efd3",
   "metadata": {},
   "outputs": [],
   "source": [
    "# kernel\n",
    "import numpy as np\n",
    "import pandas as pd\n",
    "from scipy.stats import gaussian_kde\n",
    "from shapely.geometry import Polygon\n",
    "from scipy import ndimage\n",
    "from skimage import measure\n",
    "\n",
    "def compute_kde_area(df, selected_codes, percentile=95, grid_res=100j, bandwidth=0.2):\n",
    "    \"\"\"\n",
    "    Compute KDE-based area estimation (in m²) for a list of codes using UTM coordinates.\n",
    "    \n",
    "    Parameters:\n",
    "        df (DataFrame): Input DataFrame with columns 'code', 'x_utm', 'y_utm'.\n",
    "        selected_codes (list): List of codes to process.\n",
    "        percentile (float): Percentile threshold for KDE contour (e.g., 95).\n",
    "        grid_res (complex): Grid resolution (e.g., 100j).\n",
    "        bandwidth (float): Bandwidth for KDE.\n",
    "\n",
    "    Returns:\n",
    "        DataFrame: Code-indexed DataFrame with KDE Area in m².\n",
    "    \"\"\"\n",
    "    results = []\n",
    "\n",
    "    for code in selected_codes:\n",
    "        code_data = df[df['Code'] == code].dropna(subset=['UTM_E', 'UTM_N'])\n",
    "        coords = np.vstack((code_data['UTM_E'], code_data['UTM_N'])).T\n",
    "\n",
    "        if len(coords) < 10:\n",
    "            results.append({'Code': code, 'KDE Area (m²)': np.nan})\n",
    "            continue\n",
    "\n",
    "        try:\n",
    "            kde = gaussian_kde(coords.T, bw_method=bandwidth)\n",
    "        except np.linalg.LinAlgError:\n",
    "            results.append({'Code': code, 'KDE Area (m²)': np.nan})\n",
    "            continue\n",
    "\n",
    "        x_min, x_max = coords[:, 0].min() - 5, coords[:, 0].max() + 5\n",
    "        y_min, y_max = coords[:, 1].min() - 5, coords[:, 1].max() + 5\n",
    "\n",
    "        xgrid, ygrid = np.mgrid[x_min:x_max:grid_res, y_min:y_max:grid_res]\n",
    "        grid_coords = np.vstack([xgrid.ravel(), ygrid.ravel()])\n",
    "        density = np.reshape(kde(grid_coords), xgrid.shape)\n",
    "\n",
    "        level = np.percentile(density, percentile)\n",
    "        contours = measure.find_contours(density, level)\n",
    "\n",
    "        max_area = 0\n",
    "        for contour in contours:\n",
    "            poly_coords = [\n",
    "                (\n",
    "                    x_min + (x_max - x_min) * p[1] / density.shape[1],\n",
    "                    y_min + (y_max - y_min) * p[0] / density.shape[0]\n",
    "                )\n",
    "                for p in contour\n",
    "            ]\n",
    "            if len(poly_coords) >= 3:\n",
    "                polygon = Polygon(poly_coords)\n",
    "                if polygon.is_valid:\n",
    "                    max_area = max(max_area, polygon.area)\n",
    "\n",
    "        results.append({'Code': code, 'KDE Area (m²)': max_area if max_area > 0 else np.nan})\n",
    "\n",
    "    return pd.DataFrame(results).set_index('Code')\n"
   ]
  },
  {
   "cell_type": "code",
   "execution_count": 3,
   "id": "6fcf6d0c-d9da-4722-9b9d-2202463ccedd",
   "metadata": {},
   "outputs": [
    {
     "name": "stdout",
     "output_type": "stream",
     "text": [
      "      KDE Area (m²)\n",
      "Code               \n",
      "A1              NaN\n",
      "B2              NaN\n"
     ]
    }
   ],
   "source": [
    "# df deve contenere le colonne: 'code', 'x_utm', 'y_utm'\n",
    "df=pd.read_csv(\"NaaVREcourse/ant_coord.csv\", sep=\",\")\n",
    "\n",
    "kde_results = compute_kde_area(df, selected_codes=['A1', 'B2'], percentile=95)\n",
    "print(kde_results)\n"
   ]
  },
  {
   "cell_type": "code",
   "execution_count": null,
   "id": "211f6882-feff-499b-b748-8458331f0165",
   "metadata": {},
   "outputs": [],
   "source": []
  }
 ],
 "metadata": {
  "kernelspec": {
   "display_name": "Python [conda env:vanilla]",
   "language": "python",
   "name": "conda-env-vanilla-py"
  },
  "language_info": {
   "codemirror_mode": {
    "name": "ipython",
    "version": 3
   },
   "file_extension": ".py",
   "mimetype": "text/x-python",
   "name": "python",
   "nbconvert_exporter": "python",
   "pygments_lexer": "ipython3",
   "version": "3.13.5"
  }
 },
 "nbformat": 4,
 "nbformat_minor": 5
}
